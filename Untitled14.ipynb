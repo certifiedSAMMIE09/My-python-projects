{
 "cells": [
  {
   "cell_type": "code",
   "execution_count": 9,
   "id": "b9246d46",
   "metadata": {},
   "outputs": [
    {
     "name": "stdout",
     "output_type": "stream",
     "text": [
      "10\n"
     ]
    }
   ],
   "source": [
    "numbers = [1,2,3,4]\n",
    "def sum(numbers):\n",
    "    total = 0\n",
    "    for x in numbers:\n",
    "        total += x\n",
    "    return total\n",
    "print(sum(numbers))"
   ]
  },
  {
   "cell_type": "code",
   "execution_count": 12,
   "id": "d4d508de",
   "metadata": {},
   "outputs": [
    {
     "name": "stdout",
     "output_type": "stream",
     "text": [
      "Enter the first value: 10\n",
      "Enter the second value: 20\n",
      "Enter the third value: 3\n",
      "20\n"
     ]
    }
   ],
   "source": [
    "a = int(input ('Enter the first value: '));\n",
    "b = int(input ('Enter the second value: '));\n",
    "c = int(input ('Enter the third value: '));\n",
    "\n",
    "def maximum(a, b, c):\n",
    "    \n",
    "    if (a >= b) and (a >= c):\n",
    "        largest = a\n",
    "    \n",
    "    elif (b >= a) and (b >= c):\n",
    "        largest = b\n",
    "    \n",
    "    else:\n",
    "        largest = c\n",
    "    \n",
    "    return largest\n",
    "\n",
    "print (maximum(a, b, c))"
   ]
  },
  {
   "cell_type": "code",
   "execution_count": null,
   "id": "3e430ec2",
   "metadata": {},
   "outputs": [],
   "source": []
  }
 ],
 "metadata": {
  "kernelspec": {
   "display_name": "Python 3 (ipykernel)",
   "language": "python",
   "name": "python3"
  },
  "language_info": {
   "codemirror_mode": {
    "name": "ipython",
    "version": 3
   },
   "file_extension": ".py",
   "mimetype": "text/x-python",
   "name": "python",
   "nbconvert_exporter": "python",
   "pygments_lexer": "ipython3",
   "version": "3.10.9"
  }
 },
 "nbformat": 4,
 "nbformat_minor": 5
}
